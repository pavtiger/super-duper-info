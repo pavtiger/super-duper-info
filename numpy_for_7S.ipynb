{
 "cells": [
  {
   "cell_type": "markdown",
   "metadata": {
    "colab_type": "text",
    "id": "ZnhkVyGKBMCR"
   },
   "source": [
    "##NumPy\n",
    "`NumPy` — библиотека с открытым исходным кодом для языка программирования Python. Возможности:\n",
    "\n",
    "*   поддержка многомерных массивов (включая матрицы);\n",
    "*   поддержка высокоуровневых математических функций, предназначенных для работы с многомерными массивами.\n",
    "\n",
    "(Сообщает нам википедия.)"
   ]
  },
  {
   "cell_type": "markdown",
   "metadata": {
    "colab_type": "text",
    "id": "wFcWHDSPK-Xf"
   },
   "source": [
    "[На хабре](https://habr.com/ru/post/352678/) можно почитать статью с ещё большим количеством примеров, чем приведу я. "
   ]
  },
  {
   "cell_type": "code",
   "execution_count": 9,
   "metadata": {
    "colab": {},
    "colab_type": "code",
    "id": "ArCVO9snBPfU"
   },
   "outputs": [],
   "source": [
    "import numpy as np\n",
    "import pandas as pd"
   ]
  },
  {
   "cell_type": "code",
   "execution_count": 7,
   "metadata": {},
   "outputs": [],
   "source": []
  },
  {
   "cell_type": "code",
   "execution_count": 10,
   "metadata": {},
   "outputs": [
    {
     "name": "stderr",
     "output_type": "stream",
     "text": [
      "/usr/local/lib/python3.6/dist-packages/IPython/core/interactiveshell.py:3063: DtypeWarning: Columns (1,2,10,11,13,14,15,16,17,18,19,20,22,23,24,25,26,27,31,32) have mixed types.Specify dtype option on import or set low_memory=False.\n",
      "  interactivity=interactivity, compiler=compiler, result=result)\n"
     ]
    }
   ],
   "source": [
    "data = pd.read_csv('virus_data.csv'),"
   ]
  },
  {
   "cell_type": "code",
   "execution_count": 11,
   "metadata": {},
   "outputs": [
    {
     "data": {
      "text/html": [
       "<div>\n",
       "<style scoped>\n",
       "    .dataframe tbody tr th:only-of-type {\n",
       "        vertical-align: middle;\n",
       "    }\n",
       "\n",
       "    .dataframe tbody tr th {\n",
       "        vertical-align: top;\n",
       "    }\n",
       "\n",
       "    .dataframe thead th {\n",
       "        text-align: right;\n",
       "    }\n",
       "</style>\n",
       "<table border=\"1\" class=\"dataframe\">\n",
       "  <thead>\n",
       "    <tr style=\"text-align: right;\">\n",
       "      <th></th>\n",
       "      <th>ID</th>\n",
       "      <th>age</th>\n",
       "      <th>sex</th>\n",
       "      <th>city</th>\n",
       "      <th>province</th>\n",
       "      <th>country</th>\n",
       "      <th>wuhan(0)_not_wuhan(1)</th>\n",
       "      <th>latitude</th>\n",
       "      <th>longitude</th>\n",
       "      <th>geo_resolution</th>\n",
       "      <th>...</th>\n",
       "      <th>date_death_or_discharge</th>\n",
       "      <th>notes_for_discussion</th>\n",
       "      <th>location</th>\n",
       "      <th>admin3</th>\n",
       "      <th>admin2</th>\n",
       "      <th>admin1</th>\n",
       "      <th>country_new</th>\n",
       "      <th>admin_id</th>\n",
       "      <th>data_moderator_initials</th>\n",
       "      <th>travel_history_binary</th>\n",
       "    </tr>\n",
       "  </thead>\n",
       "  <tbody>\n",
       "    <tr>\n",
       "      <th>0</th>\n",
       "      <td>000-1-</td>\n",
       "      <td>30-39</td>\n",
       "      <td>female</td>\n",
       "      <td>Snohomish County</td>\n",
       "      <td>Washington</td>\n",
       "      <td>United States</td>\n",
       "      <td>1.0</td>\n",
       "      <td>48.048180</td>\n",
       "      <td>-121.696000</td>\n",
       "      <td>admin2</td>\n",
       "      <td>...</td>\n",
       "      <td>NaN</td>\n",
       "      <td>NaN</td>\n",
       "      <td>NaN</td>\n",
       "      <td>NaN</td>\n",
       "      <td>Snohomish County</td>\n",
       "      <td>Washington</td>\n",
       "      <td>United States</td>\n",
       "      <td>2988</td>\n",
       "      <td>NaN</td>\n",
       "      <td>NaN</td>\n",
       "    </tr>\n",
       "    <tr>\n",
       "      <th>1</th>\n",
       "      <td>000-1-</td>\n",
       "      <td>NaN</td>\n",
       "      <td>NaN</td>\n",
       "      <td>NaN</td>\n",
       "      <td>Khuzestan</td>\n",
       "      <td>Iran</td>\n",
       "      <td>1.0</td>\n",
       "      <td>31.496225</td>\n",
       "      <td>48.967279</td>\n",
       "      <td>admin1</td>\n",
       "      <td>...</td>\n",
       "      <td>NaN</td>\n",
       "      <td>NaN</td>\n",
       "      <td>NaN</td>\n",
       "      <td>NaN</td>\n",
       "      <td>NaN</td>\n",
       "      <td>Khuzestan</td>\n",
       "      <td>Iran</td>\n",
       "      <td>15</td>\n",
       "      <td>NaN</td>\n",
       "      <td>NaN</td>\n",
       "    </tr>\n",
       "    <tr>\n",
       "      <th>2</th>\n",
       "      <td>000-1-</td>\n",
       "      <td>NaN</td>\n",
       "      <td>NaN</td>\n",
       "      <td>NaN</td>\n",
       "      <td>NaN</td>\n",
       "      <td>NaN</td>\n",
       "      <td>NaN</td>\n",
       "      <td>NaN</td>\n",
       "      <td>NaN</td>\n",
       "      <td>NaN</td>\n",
       "      <td>...</td>\n",
       "      <td>NaN</td>\n",
       "      <td>NaN</td>\n",
       "      <td>NaN</td>\n",
       "      <td>NaN</td>\n",
       "      <td>NaN</td>\n",
       "      <td>NaN</td>\n",
       "      <td>NaN</td>\n",
       "      <td>NaN</td>\n",
       "      <td>NaN</td>\n",
       "      <td>NaN</td>\n",
       "    </tr>\n",
       "    <tr>\n",
       "      <th>3</th>\n",
       "      <td>000-1-</td>\n",
       "      <td>50-59</td>\n",
       "      <td>male</td>\n",
       "      <td>Snohomish County</td>\n",
       "      <td>Washington</td>\n",
       "      <td>United States</td>\n",
       "      <td>1.0</td>\n",
       "      <td>48.048180</td>\n",
       "      <td>-121.696000</td>\n",
       "      <td>admin2</td>\n",
       "      <td>...</td>\n",
       "      <td>NaN</td>\n",
       "      <td>NaN</td>\n",
       "      <td>NaN</td>\n",
       "      <td>NaN</td>\n",
       "      <td>Snohomish County</td>\n",
       "      <td>Washington</td>\n",
       "      <td>United States</td>\n",
       "      <td>2988</td>\n",
       "      <td>NaN</td>\n",
       "      <td>NaN</td>\n",
       "    </tr>\n",
       "    <tr>\n",
       "      <th>4</th>\n",
       "      <td>000-1-</td>\n",
       "      <td>NaN</td>\n",
       "      <td>NaN</td>\n",
       "      <td>NaN</td>\n",
       "      <td>Pays de la Loire</td>\n",
       "      <td>France</td>\n",
       "      <td>1.0</td>\n",
       "      <td>47.486460</td>\n",
       "      <td>-0.811280</td>\n",
       "      <td>admin1</td>\n",
       "      <td>...</td>\n",
       "      <td>NaN</td>\n",
       "      <td>NaN</td>\n",
       "      <td>NaN</td>\n",
       "      <td>NaN</td>\n",
       "      <td>NaN</td>\n",
       "      <td>Pays de la Loire</td>\n",
       "      <td>France</td>\n",
       "      <td>12</td>\n",
       "      <td>NaN</td>\n",
       "      <td>NaN</td>\n",
       "    </tr>\n",
       "  </tbody>\n",
       "</table>\n",
       "<p>5 rows × 34 columns</p>\n",
       "</div>"
      ],
      "text/plain": [
       "       ID    age     sex              city          province        country  \\\n",
       "0  000-1-  30-39  female  Snohomish County        Washington  United States   \n",
       "1  000-1-    NaN     NaN               NaN         Khuzestan           Iran   \n",
       "2  000-1-    NaN     NaN               NaN               NaN            NaN   \n",
       "3  000-1-  50-59    male  Snohomish County        Washington  United States   \n",
       "4  000-1-    NaN     NaN               NaN  Pays de la Loire         France   \n",
       "\n",
       "   wuhan(0)_not_wuhan(1)   latitude   longitude geo_resolution  ...  \\\n",
       "0                    1.0  48.048180 -121.696000         admin2  ...   \n",
       "1                    1.0  31.496225   48.967279         admin1  ...   \n",
       "2                    NaN        NaN         NaN            NaN  ...   \n",
       "3                    1.0  48.048180 -121.696000         admin2  ...   \n",
       "4                    1.0  47.486460   -0.811280         admin1  ...   \n",
       "\n",
       "  date_death_or_discharge notes_for_discussion location admin3  \\\n",
       "0                     NaN                  NaN      NaN    NaN   \n",
       "1                     NaN                  NaN      NaN    NaN   \n",
       "2                     NaN                  NaN      NaN    NaN   \n",
       "3                     NaN                  NaN      NaN    NaN   \n",
       "4                     NaN                  NaN      NaN    NaN   \n",
       "\n",
       "             admin2            admin1    country_new admin_id  \\\n",
       "0  Snohomish County        Washington  United States     2988   \n",
       "1               NaN         Khuzestan           Iran       15   \n",
       "2               NaN               NaN            NaN      NaN   \n",
       "3  Snohomish County        Washington  United States     2988   \n",
       "4               NaN  Pays de la Loire         France       12   \n",
       "\n",
       "  data_moderator_initials travel_history_binary  \n",
       "0                     NaN                   NaN  \n",
       "1                     NaN                   NaN  \n",
       "2                     NaN                   NaN  \n",
       "3                     NaN                   NaN  \n",
       "4                     NaN                   NaN  \n",
       "\n",
       "[5 rows x 34 columns]"
      ]
     },
     "execution_count": 11,
     "metadata": {},
     "output_type": "execute_result"
    }
   ],
   "source": [
    "data.head()"
   ]
  },
  {
   "cell_type": "markdown",
   "metadata": {
    "colab_type": "text",
    "id": "deZz5JHrCWy_"
   },
   "source": [
    "Вот так можно инициализировать. Обратите внимание, что в массивах numpy хранятся именно типизированные значения."
   ]
  },
  {
   "cell_type": "code",
   "execution_count": 2,
   "metadata": {
    "colab": {},
    "colab_type": "code",
    "id": "AlfL1Qp9BUyc"
   },
   "outputs": [
    {
     "data": {
      "text/plain": [
       "array([1, 2, 3])"
      ]
     },
     "execution_count": 2,
     "metadata": {},
     "output_type": "execute_result"
    }
   ],
   "source": [
    "arr = np.array([1, 2, 3], dtype=int)\n",
    "arr"
   ]
  },
  {
   "cell_type": "code",
   "execution_count": 3,
   "metadata": {
    "colab": {
     "base_uri": "https://localhost:8080/",
     "height": 35
    },
    "colab_type": "code",
    "id": "p0Em7W31CF59",
    "outputId": "db7d9039-04ae-4239-928d-e55c51254bdb"
   },
   "outputs": [
    {
     "data": {
      "text/plain": [
       "dtype('int64')"
      ]
     },
     "execution_count": 3,
     "metadata": {},
     "output_type": "execute_result"
    }
   ],
   "source": [
    "arr.dtype"
   ]
  },
  {
   "cell_type": "markdown",
   "metadata": {
    "colab_type": "text",
    "id": "gu1gAqB-CwJw"
   },
   "source": [
    "Вот так сделать можно..."
   ]
  },
  {
   "cell_type": "code",
   "execution_count": 4,
   "metadata": {
    "colab": {},
    "colab_type": "code",
    "id": "MnQoK1hcCtEi"
   },
   "outputs": [
    {
     "data": {
      "text/plain": [
       "array([1, 2, 3])"
      ]
     },
     "execution_count": 4,
     "metadata": {},
     "output_type": "execute_result"
    }
   ],
   "source": [
    "arr = np.array([1, 2, '3'], dtype=int)\n",
    "arr"
   ]
  },
  {
   "cell_type": "markdown",
   "metadata": {
    "colab_type": "text",
    "id": "mQt4VdjuC1_m"
   },
   "source": [
    "А вот так - нельзя."
   ]
  },
  {
   "cell_type": "code",
   "execution_count": 5,
   "metadata": {
    "colab": {},
    "colab_type": "code",
    "id": "_3KCMU2bC58n"
   },
   "outputs": [
    {
     "ename": "ValueError",
     "evalue": "invalid literal for int() with base 10: 'A'",
     "output_type": "error",
     "traceback": [
      "\u001b[0;31m---------------------------------------------------------------------------\u001b[0m",
      "\u001b[0;31mValueError\u001b[0m                                Traceback (most recent call last)",
      "\u001b[0;32m<ipython-input-5-9ecc5b87636f>\u001b[0m in \u001b[0;36m<module>\u001b[0;34m\u001b[0m\n\u001b[0;32m----> 1\u001b[0;31m \u001b[0marr\u001b[0m \u001b[0;34m=\u001b[0m \u001b[0mnp\u001b[0m\u001b[0;34m.\u001b[0m\u001b[0marray\u001b[0m\u001b[0;34m(\u001b[0m\u001b[0;34m[\u001b[0m\u001b[0;36m1\u001b[0m\u001b[0;34m,\u001b[0m \u001b[0;36m2\u001b[0m\u001b[0;34m,\u001b[0m \u001b[0;34m'A'\u001b[0m\u001b[0;34m]\u001b[0m\u001b[0;34m,\u001b[0m \u001b[0mdtype\u001b[0m\u001b[0;34m=\u001b[0m\u001b[0mint\u001b[0m\u001b[0;34m)\u001b[0m\u001b[0;34m\u001b[0m\u001b[0;34m\u001b[0m\u001b[0m\n\u001b[0m\u001b[1;32m      2\u001b[0m \u001b[0marr\u001b[0m\u001b[0;34m\u001b[0m\u001b[0;34m\u001b[0m\u001b[0m\n",
      "\u001b[0;31mValueError\u001b[0m: invalid literal for int() with base 10: 'A'"
     ]
    }
   ],
   "source": [
    "arr = np.array([1, 2, 'A'], dtype=int)\n",
    "arr"
   ]
  },
  {
   "cell_type": "markdown",
   "metadata": {
    "colab_type": "text",
    "id": "U-Eu07fFDBTj"
   },
   "source": [
    "А так всё приведётся к строкам."
   ]
  },
  {
   "cell_type": "code",
   "execution_count": 6,
   "metadata": {
    "colab": {},
    "colab_type": "code",
    "id": "kEPtPW8rDFjX"
   },
   "outputs": [
    {
     "data": {
      "text/plain": [
       "array(['1', '2', 'A'], dtype='<U21')"
      ]
     },
     "execution_count": 6,
     "metadata": {},
     "output_type": "execute_result"
    }
   ],
   "source": [
    "arr = np.array([1, 2, 'A'])\n",
    "arr"
   ]
  },
  {
   "cell_type": "markdown",
   "metadata": {
    "colab_type": "text",
    "id": "eNjd5fUYNuM9"
   },
   "source": [
    "Есть стандартная функция для генерации случайных массивов. (Угадайте, в каком диапазоне будут значения)."
   ]
  },
  {
   "cell_type": "code",
   "execution_count": 7,
   "metadata": {
    "colab": {},
    "colab_type": "code",
    "id": "qnh8WKwROAl8"
   },
   "outputs": [
    {
     "data": {
      "text/plain": [
       "array([0.68644674, 0.77477164, 0.90288392, 0.41190751, 0.69040293])"
      ]
     },
     "execution_count": 7,
     "metadata": {},
     "output_type": "execute_result"
    }
   ],
   "source": [
    "arrRand = np.random.rand(5)\n",
    "arrRand"
   ]
  },
  {
   "cell_type": "markdown",
   "metadata": {
    "colab_type": "text",
    "id": "uPbiEnbiDkpu"
   },
   "source": [
    "Для массивов иначе определены арифметические операции.\n"
   ]
  },
  {
   "cell_type": "code",
   "execution_count": 8,
   "metadata": {
    "colab": {},
    "colab_type": "code",
    "id": "K-OoDn6CD0oF"
   },
   "outputs": [],
   "source": [
    "arrNp = np.array([1, 2, 3], dtype=int)\n",
    "arrPy = [1, 2, 3]"
   ]
  },
  {
   "cell_type": "code",
   "execution_count": 9,
   "metadata": {
    "colab": {},
    "colab_type": "code",
    "id": "vhYqvTOCD4iD"
   },
   "outputs": [
    {
     "data": {
      "text/plain": [
       "[1, 2, 3, 1, 2, 3]"
      ]
     },
     "execution_count": 9,
     "metadata": {},
     "output_type": "execute_result"
    }
   ],
   "source": [
    "arrPy * 2"
   ]
  },
  {
   "cell_type": "code",
   "execution_count": 10,
   "metadata": {
    "colab": {},
    "colab_type": "code",
    "id": "XHspuQhlD9Q9"
   },
   "outputs": [
    {
     "data": {
      "text/plain": [
       "array([2, 4, 6])"
      ]
     },
     "execution_count": 10,
     "metadata": {},
     "output_type": "execute_result"
    }
   ],
   "source": [
    "arrNp * 2"
   ]
  },
  {
   "cell_type": "code",
   "execution_count": 11,
   "metadata": {
    "colab": {},
    "colab_type": "code",
    "id": "beSOQOeZEMv0"
   },
   "outputs": [
    {
     "ename": "TypeError",
     "evalue": "can only concatenate list (not \"int\") to list",
     "output_type": "error",
     "traceback": [
      "\u001b[0;31m---------------------------------------------------------------------------\u001b[0m",
      "\u001b[0;31mTypeError\u001b[0m                                 Traceback (most recent call last)",
      "\u001b[0;32m<ipython-input-11-c6284c5d4d07>\u001b[0m in \u001b[0;36m<module>\u001b[0;34m\u001b[0m\n\u001b[0;32m----> 1\u001b[0;31m \u001b[0marrPy\u001b[0m \u001b[0;34m+\u001b[0m \u001b[0;36m10\u001b[0m\u001b[0;34m\u001b[0m\u001b[0;34m\u001b[0m\u001b[0m\n\u001b[0m",
      "\u001b[0;31mTypeError\u001b[0m: can only concatenate list (not \"int\") to list"
     ]
    }
   ],
   "source": [
    "arrPy + 10"
   ]
  },
  {
   "cell_type": "code",
   "execution_count": 12,
   "metadata": {
    "colab": {},
    "colab_type": "code",
    "id": "4cyBkr_tEP3z"
   },
   "outputs": [
    {
     "data": {
      "text/plain": [
       "array([11, 12, 13])"
      ]
     },
     "execution_count": 12,
     "metadata": {},
     "output_type": "execute_result"
    }
   ],
   "source": [
    "arrNp + 10"
   ]
  },
  {
   "cell_type": "code",
   "execution_count": 13,
   "metadata": {
    "colab": {},
    "colab_type": "code",
    "id": "h72MGWoGEV-I"
   },
   "outputs": [
    {
     "data": {
      "text/plain": [
       "array([2, 4, 6])"
      ]
     },
     "execution_count": 13,
     "metadata": {},
     "output_type": "execute_result"
    }
   ],
   "source": [
    "arrNp + arrNp"
   ]
  },
  {
   "cell_type": "code",
   "execution_count": 14,
   "metadata": {
    "colab": {},
    "colab_type": "code",
    "id": "ATi3CqhREbxd"
   },
   "outputs": [
    {
     "data": {
      "text/plain": [
       "[1, 2, 3, 1, 2, 3]"
      ]
     },
     "execution_count": 14,
     "metadata": {},
     "output_type": "execute_result"
    }
   ],
   "source": [
    "arrPy + arrPy"
   ]
  },
  {
   "cell_type": "markdown",
   "metadata": {
    "colab_type": "text",
    "id": "wT5ZINdrLatD"
   },
   "source": [
    "И такой, уже знакомы по `pandas` пример!"
   ]
  },
  {
   "cell_type": "code",
   "execution_count": 15,
   "metadata": {
    "colab": {},
    "colab_type": "code",
    "id": "5ufieoVHLXPd"
   },
   "outputs": [
    {
     "data": {
      "text/plain": [
       "array([False,  True,  True])"
      ]
     },
     "execution_count": 15,
     "metadata": {},
     "output_type": "execute_result"
    }
   ],
   "source": [
    "arrNp > 1"
   ]
  },
  {
   "cell_type": "code",
   "execution_count": 16,
   "metadata": {
    "colab": {},
    "colab_type": "code",
    "id": "hSsrlCG5Lk0d"
   },
   "outputs": [
    {
     "data": {
      "text/plain": [
       "array([2, 3])"
      ]
     },
     "execution_count": 16,
     "metadata": {},
     "output_type": "execute_result"
    }
   ],
   "source": [
    "arrNp[arrNp > 1]"
   ]
  },
  {
   "cell_type": "markdown",
   "metadata": {
    "colab_type": "text",
    "id": "9r2C_R6zErt7"
   },
   "source": [
    "`Numpy` написан на `C`, что значительно ускоряет его работу. Эта библиотека интересна не только сама по себе, но и тем, что её используют или корректно с ней интегрированны такие библиотек как `pandas`, `scipy`, `tensorflow` и `matplotlib`. "
   ]
  },
  {
   "cell_type": "markdown",
   "metadata": {
    "colab_type": "text",
    "id": "fES6U_OrFjad"
   },
   "source": [
    "Немного полезных методов...\n",
    "\n",
    "Мы уже познакомились с полем `.shape`. Эту самую форму можно поменять. Создадим двумерный массив нулей размера `m` на `n`."
   ]
  },
  {
   "cell_type": "code",
   "execution_count": 17,
   "metadata": {
    "colab": {},
    "colab_type": "code",
    "id": "lBHsJ4I6Gakm"
   },
   "outputs": [
    {
     "data": {
      "text/plain": [
       "array([0., 0., 0., 0., 0., 0., 0., 0., 0., 0., 0., 0., 0., 0., 0., 0., 0.,\n",
       "       0., 0., 0., 0., 0., 0., 0., 0., 0., 0., 0., 0., 0., 0., 0., 0., 0.,\n",
       "       0., 0., 0., 0., 0., 0., 0., 0., 0., 0., 0., 0., 0., 0., 0., 0.])"
      ]
     },
     "execution_count": 17,
     "metadata": {},
     "output_type": "execute_result"
    }
   ],
   "source": [
    "m = 5\n",
    "n = 10\n",
    "arrZeroes = np.zeros(m * n)\n",
    "arrZeroes"
   ]
  },
  {
   "cell_type": "markdown",
   "metadata": {
    "colab_type": "text",
    "id": "AySgiEzBHDaP"
   },
   "source": [
    "Обратите внимание, что в качестве аргумента я передал кортеж!"
   ]
  },
  {
   "cell_type": "code",
   "execution_count": 18,
   "metadata": {
    "colab": {},
    "colab_type": "code",
    "id": "hq-LkHUQGoT0"
   },
   "outputs": [
    {
     "data": {
      "text/plain": [
       "array([[0., 0., 0., 0., 0., 0., 0., 0., 0., 0.],\n",
       "       [0., 0., 0., 0., 0., 0., 0., 0., 0., 0.],\n",
       "       [0., 0., 0., 0., 0., 0., 0., 0., 0., 0.],\n",
       "       [0., 0., 0., 0., 0., 0., 0., 0., 0., 0.],\n",
       "       [0., 0., 0., 0., 0., 0., 0., 0., 0., 0.]])"
      ]
     },
     "execution_count": 18,
     "metadata": {},
     "output_type": "execute_result"
    }
   ],
   "source": [
    "arrZeroes = arrZeroes.reshape((m, n))\n",
    "arrZeroes"
   ]
  },
  {
   "cell_type": "markdown",
   "metadata": {
    "colab_type": "text",
    "id": "TXJqLrCNG-kD"
   },
   "source": [
    "Впрочем, форму можно было задать и сразу."
   ]
  },
  {
   "cell_type": "code",
   "execution_count": 19,
   "metadata": {
    "colab": {},
    "colab_type": "code",
    "id": "6xuiLj8uG1CK"
   },
   "outputs": [
    {
     "data": {
      "text/plain": [
       "array([[0., 0., 0., 0., 0., 0., 0., 0., 0., 0.],\n",
       "       [0., 0., 0., 0., 0., 0., 0., 0., 0., 0.],\n",
       "       [0., 0., 0., 0., 0., 0., 0., 0., 0., 0.],\n",
       "       [0., 0., 0., 0., 0., 0., 0., 0., 0., 0.],\n",
       "       [0., 0., 0., 0., 0., 0., 0., 0., 0., 0.]])"
      ]
     },
     "execution_count": 19,
     "metadata": {},
     "output_type": "execute_result"
    }
   ],
   "source": [
    "arrZeroes = np.zeros((m, n))\n",
    "arrZeroes"
   ]
  },
  {
   "cell_type": "markdown",
   "metadata": {
    "colab_type": "text",
    "id": "PkIgmLThJUMt"
   },
   "source": [
    "Можно итерироваться так, как мы привыкли."
   ]
  },
  {
   "cell_type": "code",
   "execution_count": 20,
   "metadata": {
    "colab": {},
    "colab_type": "code",
    "id": "8H6uGEIjJZRe"
   },
   "outputs": [
    {
     "name": "stdout",
     "output_type": "stream",
     "text": [
      "1\n",
      "2\n",
      "3\n"
     ]
    }
   ],
   "source": [
    "for x in arrNp:\n",
    "    print(x)"
   ]
  },
  {
   "cell_type": "markdown",
   "metadata": {
    "colab_type": "text",
    "id": "BqcW-bJZJh5V"
   },
   "source": [
    "Для массивов `numpy` существует куча стандартных математических методов, которых нет для обычных списков."
   ]
  },
  {
   "cell_type": "code",
   "execution_count": 21,
   "metadata": {
    "colab": {},
    "colab_type": "code",
    "id": "pLvcylkIJ3PP"
   },
   "outputs": [
    {
     "data": {
      "text/plain": [
       "2.0"
      ]
     },
     "execution_count": 21,
     "metadata": {},
     "output_type": "execute_result"
    }
   ],
   "source": [
    "'''среднее арифметическое'''\n",
    "arrNp.mean()"
   ]
  },
  {
   "cell_type": "code",
   "execution_count": 22,
   "metadata": {
    "colab": {},
    "colab_type": "code",
    "id": "THZahfIdKGgR"
   },
   "outputs": [
    {
     "data": {
      "text/plain": [
       "0.816496580927726"
      ]
     },
     "execution_count": 22,
     "metadata": {},
     "output_type": "execute_result"
    }
   ],
   "source": [
    "'''среднеквадратическое отклонение (о котором мы уже говорили)'''\n",
    "arrNp.std()"
   ]
  },
  {
   "cell_type": "code",
   "execution_count": 23,
   "metadata": {
    "colab": {},
    "colab_type": "code",
    "id": "MgOy5LEQKeIO"
   },
   "outputs": [
    {
     "data": {
      "text/plain": [
       "1"
      ]
     },
     "execution_count": 23,
     "metadata": {},
     "output_type": "execute_result"
    }
   ],
   "source": [
    "'''не только минимум...'''\n",
    "arrNp.min()"
   ]
  },
  {
   "cell_type": "code",
   "execution_count": 24,
   "metadata": {
    "colab": {},
    "colab_type": "code",
    "id": "upvE5gkMKlEV"
   },
   "outputs": [
    {
     "data": {
      "text/plain": [
       "0"
      ]
     },
     "execution_count": 24,
     "metadata": {},
     "output_type": "execute_result"
    }
   ],
   "source": [
    "'''... но и его индекс! (для максимума - аналогично)'''\n",
    "arrNp.argmin()"
   ]
  },
  {
   "cell_type": "markdown",
   "metadata": {
    "colab_type": "text",
    "id": "CoEjKHw9MFM_"
   },
   "source": [
    "Наконец, массивы могут математически интерпетироваться как уравнения (а ещё как матрицы, вектора, системы уравнений, но это как-нибудь потом) и предоставлять соответствующие методы."
   ]
  },
  {
   "cell_type": "markdown",
   "metadata": {
    "colab_type": "text",
    "id": "S2h6Kcl4Y-xu"
   },
   "source": [
    "Этим кодом мы по сути задали уравнение $x^2 + 2x -3 = 0$ и решили его."
   ]
  },
  {
   "cell_type": "code",
   "execution_count": 25,
   "metadata": {
    "colab": {},
    "colab_type": "code",
    "id": "-_pDs0x6Mcbx"
   },
   "outputs": [
    {
     "data": {
      "text/plain": [
       "array([-3.,  1.])"
      ]
     },
     "execution_count": 25,
     "metadata": {},
     "output_type": "execute_result"
    }
   ],
   "source": [
    "equation = np.array([1, 2, -3])\n",
    "np.roots(equation)"
   ]
  },
  {
   "cell_type": "markdown",
   "metadata": {
    "colab_type": "text",
    "id": "YpxHWI-yMxbo"
   },
   "source": [
    "А код далее - наоборот, по корням получтит многочлен. "
   ]
  },
  {
   "cell_type": "code",
   "execution_count": 26,
   "metadata": {
    "colab": {},
    "colab_type": "code",
    "id": "uMddFhtsNART"
   },
   "outputs": [
    {
     "data": {
      "text/plain": [
       "array([ 1.,  2., -3.])"
      ]
     },
     "execution_count": 26,
     "metadata": {},
     "output_type": "execute_result"
    }
   ],
   "source": [
    "np.poly([-3, 1])"
   ]
  },
  {
   "cell_type": "markdown",
   "metadata": {
    "colab_type": "text",
    "id": "b3h2XEESOXI6"
   },
   "source": [
    "Задания для работы в классе. Нужно сдать до конца пары! Я постарался сделать их не особо сложными, но содержательными."
   ]
  },
  {
   "cell_type": "markdown",
   "metadata": {
    "colab_type": "text",
    "id": "sjy0YOloOgJH"
   },
   "source": [
    "###Задание 1\n",
    "Напишите (используя `numpy`) функцию, которая принимает на вход три аргумента и возвращает решение квадратного уравнения с заданными коэффициентами. "
   ]
  },
  {
   "cell_type": "code",
   "execution_count": 44,
   "metadata": {
    "colab": {},
    "colab_type": "code",
    "id": "4bWUoO_1PtRy"
   },
   "outputs": [],
   "source": [
    "def solveQudraticEquation(a, b, c):\n",
    "    arr = np.array([a, b, c])\n",
    "    return np.roots(arr)"
   ]
  },
  {
   "cell_type": "code",
   "execution_count": 45,
   "metadata": {},
   "outputs": [
    {
     "data": {
      "text/plain": [
       "array([-3.,  1.])"
      ]
     },
     "execution_count": 45,
     "metadata": {},
     "output_type": "execute_result"
    }
   ],
   "source": [
    "solveQudraticEquation(1, 2, -3)"
   ]
  },
  {
   "cell_type": "markdown",
   "metadata": {
    "colab_type": "text",
    "id": "NxDsB66_O9Mm"
   },
   "source": [
    "###Задание 2\n",
    "Используя только `np.random.rand(n)` и стандартные арифметические операции сгенерируйте массив случайных чисел от **-1** до **1**. \n",
    "\n",
    "**Подсказка:** подумайте, как сделать так, чтобы из чисел от **0** до **1** сделать числа от **0** до **2**. Когда придумаете, поймите, как из чисел от **0** до **2** сделать числа от **-1** до **1**."
   ]
  },
  {
   "cell_type": "code",
   "execution_count": 40,
   "metadata": {
    "colab": {},
    "colab_type": "code",
    "id": "7iuN8gemUedF"
   },
   "outputs": [
    {
     "data": {
      "text/plain": [
       "array([-0.57218595,  0.40503179,  0.12331327, -0.27970491,  0.6879641 ])"
      ]
     },
     "execution_count": 40,
     "metadata": {},
     "output_type": "execute_result"
    }
   ],
   "source": [
    "myRandomArr = np.random.rand(5) * 2     # 0 - 2\n",
    "myRandomArr = np.random.rand(5) * 2 - 1 # -1 - 1\n",
    "myRandomArr"
   ]
  },
  {
   "cell_type": "markdown",
   "metadata": {
    "colab_type": "text",
    "id": "oZr5OwCLO-X-"
   },
   "source": [
    "###Задание 3\n",
    "Проверьте, что будет, если попытаться решить уравнение, у которого нет действительных корней (отрицательный дискриминант).\n",
    "\n",
    "Как по этим корням понять, что они не являются действительными.\n",
    "\n",
    "**Подсказка:** в примерах есть строчка, которая вам поможет. Если никак не получается догадаться, то обратитесь ко мне за добавочной подсказкой."
   ]
  },
  {
   "cell_type": "code",
   "execution_count": 61,
   "metadata": {
    "colab": {},
    "colab_type": "code",
    "id": "HuYAJr9AUiZr"
   },
   "outputs": [],
   "source": [
    "def rootsAreReal(equationArr):\n",
    "    return np.roots(equationArr).dtype == np.float64\n",
    "    \n",
    "\n",
    "assert rootsAreReal(np.array([1, 2, -3])) == True\n",
    "assert rootsAreReal(np.array([1, 2, 10])) == False\n",
    "assert rootsAreReal(np.array([1, 0, 0])) == True"
   ]
  },
  {
   "cell_type": "markdown",
   "metadata": {
    "colab_type": "text",
    "id": "ML4JbOu1O_6d"
   },
   "source": [
    "###Задание 4.1\n",
    "Используя решения предыдущих пунктов сделайте следующее (функцию из пункта 1 использовать не стоит, с ней будет не очень удобно):\n",
    "\n",
    "\n",
    "1.   Сгенерируйте тысячу случайных массивов из пункта **2**.\n",
    "2.   Посчитайте, у скольких из них корни являются действительными числами.\n",
    "3.   Приблизительно вычислите вероятность этого события.\n",
    "\n"
   ]
  },
  {
   "cell_type": "code",
   "execution_count": 80,
   "metadata": {
    "colab": {},
    "colab_type": "code",
    "id": "3XQ7bfGMX5gx"
   },
   "outputs": [
    {
     "data": {
      "text/plain": [
       "39"
      ]
     },
     "execution_count": 80,
     "metadata": {},
     "output_type": "execute_result"
    }
   ],
   "source": [
    "cnt = 0\n",
    "for i in range(1000):\n",
    "    arr = np.random.rand(5) * 2 - 1\n",
    "    if np.roots(arr).dtype == np.float64:\n",
    "        cnt += 1\n",
    "        \n",
    "cnt\n",
    "# probability = ~40/1000"
   ]
  },
  {
   "cell_type": "markdown",
   "metadata": {
    "colab_type": "text",
    "id": "JxDm3EEAW-FM"
   },
   "source": [
    "###Задание 4.2\n",
    "Выполните предыдущее задание так, чтобы результат был по сути аналогичен, но уравнения не хранились в памяти разом, а генерировались по одному."
   ]
  },
  {
   "cell_type": "code",
   "execution_count": 0,
   "metadata": {
    "colab": {},
    "colab_type": "code",
    "id": "tpcMLD7FVhRH"
   },
   "outputs": [],
   "source": [
    "cnt = 0\n",
    "for i in range(1000):\n",
    "    arr = np.random.rand(5) * 2 - 1\n",
    "    if np.roots(arr).dtype == np.float64:\n",
    "        cnt += 1\n",
    "        \n",
    "cnt"
   ]
  },
  {
   "cell_type": "markdown",
   "metadata": {
    "colab_type": "text",
    "id": "Uma6dIbSPCyF"
   },
   "source": [
    "###Задание 5\n",
    "Исследуйте, как изменится вероятность из предыдушего пункта, если генерировать уравнения как-то иначе (придумайте как минимум два не бессмысленных варианта). Вам доступны любые способы генерации случайных чисел."
   ]
  },
  {
   "cell_type": "code",
   "execution_count": 168,
   "metadata": {
    "colab": {},
    "colab_type": "code",
    "id": "uj1FwpRpX3EJ"
   },
   "outputs": [
    {
     "data": {
      "text/plain": [
       "0"
      ]
     },
     "execution_count": 168,
     "metadata": {},
     "output_type": "execute_result"
    }
   ],
   "source": [
    "cnt = 0\n",
    "for i in range(1000):\n",
    "    arr = np.random.rand(5) * 2\n",
    "    if np.roots(arr).dtype == np.float64:\n",
    "        cnt += 1\n",
    "        \n",
    "cnt\n",
    "# probability = ~1/1000"
   ]
  }
 ],
 "metadata": {
  "colab": {
   "name": "numpy for 7S.ipynb",
   "provenance": []
  },
  "kernelspec": {
   "display_name": "Python 3",
   "language": "python",
   "name": "python3"
  },
  "language_info": {
   "codemirror_mode": {
    "name": "ipython",
    "version": 3
   },
   "file_extension": ".py",
   "mimetype": "text/x-python",
   "name": "python",
   "nbconvert_exporter": "python",
   "pygments_lexer": "ipython3",
   "version": "3.6.9"
  }
 },
 "nbformat": 4,
 "nbformat_minor": 1
}
