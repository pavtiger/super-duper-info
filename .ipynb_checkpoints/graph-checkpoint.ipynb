{
 "cells": [
  {
   "cell_type": "markdown",
   "metadata": {
    "colab_type": "text",
    "id": "OuBBZwLAezw2"
   },
   "source": [
    "# Графики, сортировки, многочлены, пределы, приближения... чтоооооо?\n",
    "Для начала вам явно пригодится код сортировки `mSort`, который может быть примерно вот таким... (Да, у меня есть ряд весьма сомнительных решений с точки зрения оптимальности по памяти/времени, вопрос на подумать - какие и как это можно в теории исправить?)"
   ]
  },
  {
   "cell_type": "markdown",
   "metadata": {
    "colab_type": "text",
    "id": "0xm45VF5iJ3a"
   },
   "source": [
    "Короткая ссылка на этот файл.\n",
    "\n",
    "http://gg.gg/sil7_matplotlib"
   ]
  },
  {
   "cell_type": "code",
   "execution_count": 14,
   "metadata": {
    "colab": {},
    "colab_type": "code",
    "id": "Kddfez2AZKJ_"
   },
   "outputs": [],
   "source": [
    "def merge(list1, list2):\n",
    "    global cnt\n",
    "    res = []\n",
    "    while list1 and list2:\n",
    "        cnt += 1\n",
    "        if list1[0] < list2[0]:\n",
    "            res.append(list1.pop(0))\n",
    "        else:\n",
    "            res.append(list2.pop(0))\n",
    "    res += list1 + list2\n",
    "    return res\n"
   ]
  },
  {
   "cell_type": "code",
   "execution_count": 15,
   "metadata": {
    "colab": {},
    "colab_type": "code",
    "id": "6-Y6Yle9bNnr"
   },
   "outputs": [],
   "source": [
    "def mSort(myList):\n",
    "    if len(myList) <= 1:\n",
    "        return myList\n",
    "    \n",
    "    listCenter = len(myList) // 2\n",
    "    leftList, rightList = myList[:listCenter], myList[listCenter:]\n",
    "    leftList = mSort(leftList)\n",
    "    rightList = mSort(rightList)\n",
    "    \n",
    "    return merge(leftList, rightList)\n"
   ]
  },
  {
   "cell_type": "code",
   "execution_count": 16,
   "metadata": {
    "colab": {},
    "colab_type": "code",
    "id": "IKCiGwtOcdkZ"
   },
   "outputs": [
    {
     "name": "stdout",
     "output_type": "stream",
     "text": [
      "cnt: 8\n"
     ]
    }
   ],
   "source": [
    "cnt = 0\n",
    "mSort([1, 10, 5, 4, 3])\n",
    "print('cnt:', cnt)"
   ]
  },
  {
   "cell_type": "markdown",
   "metadata": {
    "colab_type": "text",
    "id": "aHKfsIcSdZrA"
   },
   "source": [
    "### Задание 1.1\n",
    "\n",
    "Разберитесь, как сгенерировать список длины `n`, состоящий из случайных чисел. (Думаю, гугл поможет!) Если получившийся способ - не функция (на момент написания этого текста, я не знаю, есть ли стандартная функция, которая это делает), то оберните его в функцию от `n`."
   ]
  },
  {
   "cell_type": "code",
   "execution_count": 17,
   "metadata": {
    "colab": {},
    "colab_type": "code",
    "id": "w8OxEHHRdkes"
   },
   "outputs": [
    {
     "data": {
      "text/plain": [
       "array([[0.42336247],\n",
       "       [0.47785028],\n",
       "       [0.17380735],\n",
       "       [0.92288939],\n",
       "       [0.22383128],\n",
       "       [0.25870988],\n",
       "       [0.33266078],\n",
       "       [0.83865325],\n",
       "       [0.34268457],\n",
       "       [0.4824953 ]])"
      ]
     },
     "execution_count": 17,
     "metadata": {},
     "output_type": "execute_result"
    }
   ],
   "source": [
    "import numpy as np\n",
    "\n",
    "n = 10\n",
    "arr = np.random.rand(10, 1)\n",
    "arr"
   ]
  },
  {
   "cell_type": "markdown",
   "metadata": {
    "colab_type": "text",
    "id": "CjshNcGHdyz0"
   },
   "source": [
    "### Задание 1.2\n",
    "Модифицируйте мою функцию сортировки так, чтобы она помимо сортировки списка вычисляла, сколько в процессе сортировки было выполнено операций сравнения двух чисел и возвращала пару значений - отсортированный список и это количество."
   ]
  },
  {
   "cell_type": "markdown",
   "metadata": {
    "colab_type": "text",
    "id": "E0vA7V0EeQpr"
   },
   "source": [
    "### Задание 1.3\n",
    "Напишите сами функцию сортировки пузырьком (и, конечно, примените к ней ту же модификацию, что применяли к моей сортировке в задании `1.2`)."
   ]
  },
  {
   "cell_type": "code",
   "execution_count": 18,
   "metadata": {
    "colab": {},
    "colab_type": "code",
    "id": "4BZFaytQd_SD"
   },
   "outputs": [],
   "source": [
    "def perform_bubble_sort(blist):\n",
    "    cmpcount, swapcount = 0, 0\n",
    "    for j in range(len(blist)):\n",
    "        for i in range(1, len(blist)-j):\n",
    "            cmpcount += 1\n",
    "            if blist[i - 1] > blist[i]:\n",
    "                swapcount += 1\n",
    "                blist[i - 1], blist[i] = blist[i], blist[i - 1]\n",
    "\n",
    "    return swapcount"
   ]
  },
  {
   "cell_type": "code",
   "execution_count": 19,
   "metadata": {},
   "outputs": [
    {
     "data": {
      "text/plain": [
       "4"
      ]
     },
     "execution_count": 19,
     "metadata": {},
     "output_type": "execute_result"
    }
   ],
   "source": [
    "perform_bubble_sort(arr)"
   ]
  },
  {
   "cell_type": "markdown",
   "metadata": {
    "colab_type": "text",
    "id": "Y0aSTX1uesz0"
   },
   "source": [
    "### Задание 1.4\n",
    "Сгенерируйте случайные списки длин от 1 до ... ну, до куда хватит вычислительных мощностей. Отсортируйте их двумя вашими сортировками и в два массива сохраните количества операций, которые заняли сортировки."
   ]
  },
  {
   "cell_type": "code",
   "execution_count": 40,
   "metadata": {
    "colab": {},
    "colab_type": "code",
    "id": "iQVonXdeeBOz"
   },
   "outputs": [],
   "source": [
    "import numpy as np\n",
    "\n",
    "b_sort_arr = []\n",
    "m_sort_arr = []\n",
    "step = []\n",
    "\n",
    "max_length = 100\n",
    "for l in range(max_length):\n",
    "    cnt = 0\n",
    "    arr = list(np.random.rand((l + 1) * 10))\n",
    "    step.append((l + 1) * 10)\n",
    "    \n",
    "    b_sort_arr.append(perform_bubble_sort(arr))\n",
    "    mSort(list(arr))\n",
    "    m_sort_arr.append(cnt)\n",
    "    \n",
    "# m_sort_arr"
   ]
  },
  {
   "cell_type": "markdown",
   "metadata": {
    "colab_type": "text",
    "id": "KxWBbyi5hKch"
   },
   "source": [
    "###Теперь посмотрим на вот такой нехитрый код..."
   ]
  },
  {
   "cell_type": "code",
   "execution_count": 21,
   "metadata": {
    "colab": {},
    "colab_type": "code",
    "id": "AHMCtL23gupv"
   },
   "outputs": [],
   "source": [
    "from matplotlib import pyplot as plt"
   ]
  },
  {
   "cell_type": "code",
   "execution_count": 22,
   "metadata": {
    "colab": {},
    "colab_type": "code",
    "id": "YWD9vVbGg74m"
   },
   "outputs": [
    {
     "data": {
      "image/png": "[encoded data removed]",
      "text/plain": [
       "<Figure size 432x288 with 1 Axes>"
      ]
     },
     "metadata": {
      "needs_background": "light"
     },
     "output_type": "display_data"
    }
   ],
   "source": [
    "plt.plot([1, 20, 10, 15])\n",
    "plt.show()\n"
   ]
  },
  {
   "cell_type": "code",
   "execution_count": 23,
   "metadata": {
    "colab": {},
    "colab_type": "code",
    "id": "YDp70VFYfOyd"
   },
   "outputs": [
    {
     "data": {
      "image/png": "[encoded data removed]",
      "text/plain": [
       "<Figure size 432x288 with 1 Axes>"
      ]
     },
     "metadata": {
      "needs_background": "light"
     },
     "output_type": "display_data"
    }
   ],
   "source": [
    "plt.plot([0, 1, 5, 50], [1, 20, 10, 15])\n",
    "plt.show()"
   ]
  },
  {
   "cell_type": "markdown",
   "metadata": {
    "colab_type": "text",
    "id": "uGZW2W9oZvms"
   },
   "source": [
    "Пока выглядит так себе, не правда ли?"
   ]
  },
  {
   "cell_type": "markdown",
   "metadata": {
    "colab_type": "text",
    "id": "5oB8IEQnhZfH"
   },
   "source": [
    "### Задание 2.0\n",
    "Прочитайте про методы `title`, `xlable`, `ylable`, `legend`. И постройте красивый график (любой функции)."
   ]
  },
  {
   "cell_type": "markdown",
   "metadata": {
    "colab_type": "text",
    "id": "RUloBiwXh9ZA"
   },
   "source": [
    "### Задание 2.1\n",
    "Постройти график количества операций сравнения для двух исследованных сортировок. (Естественно, сделав его красивым и понятным!)"
   ]
  },
  {
   "cell_type": "code",
   "execution_count": 42,
   "metadata": {
    "colab": {},
    "colab_type": "code",
    "id": "R20W6FsWeEhW"
   },
   "outputs": [
    {
     "data": {
      "image/png": "[encoded data removed]",
      "text/plain": [
       "<Figure size 432x288 with 1 Axes>"
      ]
     },
     "metadata": {
      "needs_background": "light"
     },
     "output_type": "display_data"
    }
   ],
   "source": [
    "plt.title(\"Dependence of operations on the number of elements\")\n",
    "plt.xlabel(\"Amount\")\n",
    "plt.ylabel(\"Operations\")\n",
    "plt.plot(step, m_sort_arr)\n",
    "plt.plot(step, b_sort_arr)\n",
    "\n",
    "plt.legend([\"merge\",\"bubble\"])\n",
    "plt.show()"
   ]
  },
  {
   "cell_type": "markdown",
   "metadata": {
    "colab_type": "text",
    "id": "6Z8L7YnOiOkS"
   },
   "source": [
    "### Задание 2.2\n",
    "Переделайте задания `1.4` и `2.1` генерируя списки не всех возможных длин вообще, а только некоторых с некоторым шагом, чтобы не нужно было так долго ждать обсчёта списков больших длин."
   ]
  },
  {
   "cell_type": "code",
   "execution_count": 12,
   "metadata": {
    "colab": {},
    "colab_type": "code",
    "id": "6Zo_nPQ3eFdl"
   },
   "outputs": [],
   "source": [
    "# напишите свой код здесь "
   ]
  },
  {
   "cell_type": "markdown",
   "metadata": {
    "colab_type": "text",
    "id": "OhoQydGMnu6K"
   },
   "source": [
    "## to be continued...\n",
    "(Вообще, если кто-то разберётся и насочиняет заданий по построению графиков с красивым оформлением, то я порадуюсь. [Тыц.\n",
    "](https://matplotlib.org/tutorials/introductory/pyplot.html#sphx-glr-tutorials-introductory-pyplot-py))"
   ]
  }
 ],
 "metadata": {
  "colab": {
   "collapsed_sections": [],
   "name": "Copy of Графики.ipynb",
   "provenance": []
  },
  "kernelspec": {
   "display_name": "Python 3",
   "language": "python",
   "name": "python3"
  },
  "language_info": {
   "codemirror_mode": {
    "name": "ipython",
    "version": 3
   },
   "file_extension": ".py",
   "mimetype": "text/x-python",
   "name": "python",
   "nbconvert_exporter": "python",
   "pygments_lexer": "ipython3",
   "version": "3.6.9"
  }
 },
 "nbformat": 4,
 "nbformat_minor": 1
}
